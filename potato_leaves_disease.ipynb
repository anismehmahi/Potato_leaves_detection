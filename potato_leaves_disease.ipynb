{
  "cells": [
    {
      "cell_type": "code",
      "execution_count": null,
      "id": "b3cbe67e",
      "metadata": {
        "execution": {
          "iopub.execute_input": "2022-03-11T05:50:48.472451Z",
          "iopub.status.busy": "2022-03-11T05:50:48.471834Z",
          "iopub.status.idle": "2022-03-11T05:50:53.466759Z",
          "shell.execute_reply": "2022-03-11T05:50:53.466046Z",
          "shell.execute_reply.started": "2022-03-11T02:32:51.396859Z"
        },
        "papermill": {
          "duration": 5.036831,
          "end_time": "2022-03-11T05:50:53.466918",
          "exception": false,
          "start_time": "2022-03-11T05:50:48.430087",
          "status": "completed"
        },
        "tags": [],
        "id": "b3cbe67e"
      },
      "outputs": [],
      "source": [
        "import tensorflow as tf\n",
        "from tensorflow.keras import models, layers\n",
        "import matplotlib.pyplot as plt\n",
        "import numpy as np\n",
        "import pandas as pd\n",
        "import pathlib\n",
        "import os\n",
        "\n",
        "# to disable all debugging logs\n",
        "#os.environ['TF_CPP_MIN_LOG_LEVEL'] = '2'"
      ]
    },
    {
      "cell_type": "code",
      "source": [
        "from google.colab import drive\n",
        "drive.mount('/content/drive')"
      ],
      "metadata": {
        "id": "kWPOlJSiAVRl"
      },
      "id": "kWPOlJSiAVRl",
      "execution_count": null,
      "outputs": []
    },
    {
      "cell_type": "markdown",
      "id": "c0db67d6",
      "metadata": {
        "papermill": {
          "duration": 0.03252,
          "end_time": "2022-03-11T05:50:53.616648",
          "exception": false,
          "start_time": "2022-03-11T05:50:53.584128",
          "status": "completed"
        },
        "tags": [],
        "id": "c0db67d6"
      },
      "source": [
        "# Extracting only potato dataset"
      ]
    },
    {
      "cell_type": "code",
      "source": [
        "dataset_dir = '/content/drive/MyDrive/DATA  !/archive/PlantVillage'"
      ],
      "metadata": {
        "id": "B36Id_KHE2LM"
      },
      "id": "B36Id_KHE2LM",
      "execution_count": null,
      "outputs": []
    },
    {
      "cell_type": "code",
      "execution_count": null,
      "id": "5cbf77c8",
      "metadata": {
        "execution": {
          "iopub.execute_input": "2022-03-11T05:51:09.763516Z",
          "iopub.status.busy": "2022-03-11T05:51:09.762841Z",
          "iopub.status.idle": "2022-03-11T05:51:09.765433Z",
          "shell.execute_reply": "2022-03-11T05:51:09.765002Z",
          "shell.execute_reply.started": "2022-03-11T02:51:19.516957Z"
        },
        "papermill": {
          "duration": 0.039076,
          "end_time": "2022-03-11T05:51:09.765547",
          "exception": false,
          "start_time": "2022-03-11T05:51:09.726471",
          "status": "completed"
        },
        "tags": [],
        "id": "5cbf77c8"
      },
      "outputs": [],
      "source": [
        "#Global Initialization Of some important variables\n",
        "\n",
        "Image_Size = 256\n",
        "Batch_Size = 32\n",
        "Channels = 3\n",
        "Epochs = 50"
      ]
    },
    {
      "cell_type": "code",
      "execution_count": null,
      "id": "97f68dfb",
      "metadata": {
        "execution": {
          "iopub.execute_input": "2022-03-11T05:51:09.835952Z",
          "iopub.status.busy": "2022-03-11T05:51:09.835072Z",
          "iopub.status.idle": "2022-03-11T05:51:12.405636Z",
          "shell.execute_reply": "2022-03-11T05:51:12.406073Z",
          "shell.execute_reply.started": "2022-03-11T03:00:19.574655Z"
        },
        "papermill": {
          "duration": 2.607473,
          "end_time": "2022-03-11T05:51:12.406267",
          "exception": false,
          "start_time": "2022-03-11T05:51:09.798794",
          "status": "completed"
        },
        "tags": [],
        "id": "97f68dfb"
      },
      "outputs": [],
      "source": [
        "\n",
        "dataset = tf.keras.preprocessing.image_dataset_from_directory(\n",
        "    dataset_dir, batch_size = Batch_Size, image_size = (Image_Size, Image_Size), shuffle = True) "
      ]
    },
    {
      "cell_type": "code",
      "execution_count": null,
      "id": "1b7b61fe",
      "metadata": {
        "execution": {
          "iopub.execute_input": "2022-03-11T05:51:12.481495Z",
          "iopub.status.busy": "2022-03-11T05:51:12.480304Z",
          "iopub.status.idle": "2022-03-11T05:51:12.484323Z",
          "shell.execute_reply": "2022-03-11T05:51:12.483858Z",
          "shell.execute_reply.started": "2022-03-11T03:04:03.98122Z"
        },
        "papermill": {
          "duration": 0.044687,
          "end_time": "2022-03-11T05:51:12.484440",
          "exception": false,
          "start_time": "2022-03-11T05:51:12.439753",
          "status": "completed"
        },
        "tags": [],
        "id": "1b7b61fe"
      },
      "outputs": [],
      "source": [
        "\n",
        "class_name = dataset.class_names\n",
        "class_name"
      ]
    },
    {
      "cell_type": "code",
      "execution_count": null,
      "id": "0901e053",
      "metadata": {
        "execution": {
          "iopub.execute_input": "2022-03-11T05:51:12.633297Z",
          "iopub.status.busy": "2022-03-11T05:51:12.632549Z",
          "iopub.status.idle": "2022-03-11T05:51:12.635147Z",
          "shell.execute_reply": "2022-03-11T05:51:12.635559Z",
          "shell.execute_reply.started": "2022-03-11T03:06:10.069014Z"
        },
        "papermill": {
          "duration": 0.04181,
          "end_time": "2022-03-11T05:51:12.635686",
          "exception": false,
          "start_time": "2022-03-11T05:51:12.593876",
          "status": "completed"
        },
        "tags": [],
        "id": "0901e053"
      },
      "outputs": [],
      "source": [
        "len(dataset)"
      ]
    },
    {
      "cell_type": "code",
      "execution_count": null,
      "id": "f7f87b7f",
      "metadata": {
        "execution": {
          "iopub.execute_input": "2022-03-11T05:51:12.708057Z",
          "iopub.status.busy": "2022-03-11T05:51:12.707507Z",
          "iopub.status.idle": "2022-03-11T05:51:12.710363Z",
          "shell.execute_reply": "2022-03-11T05:51:12.710943Z",
          "shell.execute_reply.started": "2022-03-11T03:07:41.922691Z"
        },
        "papermill": {
          "duration": 0.041647,
          "end_time": "2022-03-11T05:51:12.711111",
          "exception": false,
          "start_time": "2022-03-11T05:51:12.669464",
          "status": "completed"
        },
        "tags": [],
        "id": "f7f87b7f"
      },
      "outputs": [],
      "source": [
        "\n",
        "print(dataset)"
      ]
    },
    {
      "cell_type": "code",
      "execution_count": null,
      "id": "761638c5",
      "metadata": {
        "execution": {
          "iopub.execute_input": "2022-03-11T05:51:14.523276Z",
          "iopub.status.busy": "2022-03-11T05:51:14.522454Z",
          "iopub.status.idle": "2022-03-11T05:51:15.943605Z",
          "shell.execute_reply": "2022-03-11T05:51:15.944096Z",
          "shell.execute_reply.started": "2022-03-11T03:18:57.595699Z"
        },
        "papermill": {
          "duration": 1.485314,
          "end_time": "2022-03-11T05:51:15.944265",
          "exception": false,
          "start_time": "2022-03-11T05:51:14.458951",
          "status": "completed"
        },
        "tags": [],
        "id": "761638c5"
      },
      "outputs": [],
      "source": [
        "# PLotting Image\n",
        "plt.figure(figsize = (20,20))\n",
        "\n",
        "\n",
        "for image, label in dataset.take(1):\n",
        "    for i in range (12):\n",
        "        plt.subplot(3, 4, i+1) \n",
        "        #converting all data of image into numpy and than to intiger type as they were in float.\n",
        "        plt.imshow(image[i].numpy().astype('uint8'))\n",
        "  \n",
        "        plt.title(class_name[label[i]])\n",
        "        \n",
        "        plt.axis('off')\n",
        "        "
      ]
    },
    {
      "cell_type": "markdown",
      "id": "32900f66",
      "metadata": {
        "papermill": {
          "duration": 0.095929,
          "end_time": "2022-03-11T05:51:16.137075",
          "exception": false,
          "start_time": "2022-03-11T05:51:16.041146",
          "status": "completed"
        },
        "tags": [],
        "id": "32900f66"
      },
      "source": [
        "# Splitting Dataset"
      ]
    },
    {
      "cell_type": "code",
      "execution_count": null,
      "id": "7036718b",
      "metadata": {
        "execution": {
          "iopub.execute_input": "2022-03-11T05:51:16.342421Z",
          "iopub.status.busy": "2022-03-11T05:51:16.341576Z",
          "iopub.status.idle": "2022-03-11T05:51:16.344099Z",
          "shell.execute_reply": "2022-03-11T05:51:16.343659Z",
          "shell.execute_reply.started": "2022-03-11T03:31:08.388076Z"
        },
        "papermill": {
          "duration": 0.110789,
          "end_time": "2022-03-11T05:51:16.344223",
          "exception": false,
          "start_time": "2022-03-11T05:51:16.233434",
          "status": "completed"
        },
        "tags": [],
        "id": "7036718b"
      },
      "outputs": [],
      "source": [
        "# Function for Splitting the data\n",
        "\n",
        "def split_dataset(ds, train_split=0.9, val_split=0.1, test_split=0, shuffle=True, shuffle_size=1000):\n",
        "    if shuffle:\n",
        "        ds = ds.shuffle(shuffle_size, seed = 10)\n",
        "        \n",
        "    ds_size = len(ds)\n",
        "    train_size =int(train_split * ds_size)\n",
        "    val_size = int(val_split * ds_size)\n",
        "    \n",
        "    train_ds = ds.take(train_size)\n",
        "    val_ds = ds.skip(train_size).take(val_size)\n",
        "    test_ds = ds.skip(train_size).take(val_size)\n",
        "    \n",
        "    return train_ds, val_ds, test_ds"
      ]
    },
    {
      "cell_type": "code",
      "execution_count": null,
      "id": "f30a1b78",
      "metadata": {
        "execution": {
          "iopub.execute_input": "2022-03-11T05:51:16.542937Z",
          "iopub.status.busy": "2022-03-11T05:51:16.541876Z",
          "iopub.status.idle": "2022-03-11T05:51:16.547362Z",
          "shell.execute_reply": "2022-03-11T05:51:16.546895Z",
          "shell.execute_reply.started": "2022-03-11T03:32:00.913761Z"
        },
        "papermill": {
          "duration": 0.10776,
          "end_time": "2022-03-11T05:51:16.547482",
          "exception": false,
          "start_time": "2022-03-11T05:51:16.439722",
          "status": "completed"
        },
        "tags": [],
        "id": "f30a1b78"
      },
      "outputs": [],
      "source": [
        "train_data, val_data, test_data = split_dataset(dataset)"
      ]
    },
    {
      "cell_type": "code",
      "execution_count": null,
      "id": "1ae46b37",
      "metadata": {
        "execution": {
          "iopub.execute_input": "2022-03-11T05:51:16.750888Z",
          "iopub.status.busy": "2022-03-11T05:51:16.749289Z",
          "iopub.status.idle": "2022-03-11T05:51:16.753139Z",
          "shell.execute_reply": "2022-03-11T05:51:16.752684Z",
          "shell.execute_reply.started": "2022-03-11T03:37:53.946213Z"
        },
        "papermill": {
          "duration": 0.11014,
          "end_time": "2022-03-11T05:51:16.753291",
          "exception": false,
          "start_time": "2022-03-11T05:51:16.643151",
          "status": "completed"
        },
        "tags": [],
        "id": "1ae46b37"
      },
      "outputs": [],
      "source": [
        "print(\"Size of Data is: {0} \\nBatch size of Training Data is:{1}\\nBatch size of Val data is:{2}\\nBatch size of Test Dast Is:{3} \" .format(len(dataset), len(train_data), len(val_data), len(test_data)))"
      ]
    },
    {
      "cell_type": "code",
      "execution_count": null,
      "id": "d4c34675",
      "metadata": {
        "execution": {
          "iopub.execute_input": "2022-03-11T05:51:16.953649Z",
          "iopub.status.busy": "2022-03-11T05:51:16.952824Z",
          "iopub.status.idle": "2022-03-11T05:51:16.958707Z",
          "shell.execute_reply": "2022-03-11T05:51:16.958294Z",
          "shell.execute_reply.started": "2022-03-11T03:57:55.45275Z"
        },
        "papermill": {
          "duration": 0.109308,
          "end_time": "2022-03-11T05:51:16.958822",
          "exception": false,
          "start_time": "2022-03-11T05:51:16.849514",
          "status": "completed"
        },
        "tags": [],
        "id": "d4c34675"
      },
      "outputs": [],
      "source": [
        "# caching,shuffle and prefetching the data\n",
        "\n",
        "train_ds = train_data.cache().shuffle(1000).prefetch(buffer_size = tf.data.AUTOTUNE)\n",
        "val_da = val_data.cache().shuffle(1000).prefetch(buffer_size = tf.data.AUTOTUNE)\n",
        "test_ds = test_data.cache().shuffle(1000).prefetch(buffer_size = tf.data.AUTOTUNE)"
      ]
    },
    {
      "cell_type": "markdown",
      "id": "33a50c85",
      "metadata": {
        "papermill": {
          "duration": 0.095956,
          "end_time": "2022-03-11T05:51:17.150512",
          "exception": false,
          "start_time": "2022-03-11T05:51:17.054556",
          "status": "completed"
        },
        "tags": [],
        "id": "33a50c85"
      },
      "source": [
        "# Pre-processing "
      ]
    },
    {
      "cell_type": "code",
      "execution_count": null,
      "id": "8ade6b7d",
      "metadata": {
        "execution": {
          "iopub.execute_input": "2022-03-11T05:51:17.350785Z",
          "iopub.status.busy": "2022-03-11T05:51:17.350127Z",
          "iopub.status.idle": "2022-03-11T05:51:17.373045Z",
          "shell.execute_reply": "2022-03-11T05:51:17.372608Z",
          "shell.execute_reply.started": "2022-03-11T04:02:39.095093Z"
        },
        "papermill": {
          "duration": 0.12602,
          "end_time": "2022-03-11T05:51:17.373166",
          "exception": false,
          "start_time": "2022-03-11T05:51:17.247146",
          "status": "completed"
        },
        "tags": [],
        "id": "8ade6b7d"
      },
      "outputs": [],
      "source": [
        "#Rescaling and Resizing\n",
        "\n",
        "resize_and_rescale = tf.keras.Sequential([\n",
        "    layers.experimental.preprocessing.Resizing(Image_Size, Image_Size),\n",
        "    layers.experimental.preprocessing.Rescaling(1.0/255)\n",
        "])"
      ]
    },
    {
      "cell_type": "code",
      "execution_count": null,
      "id": "1d14a649",
      "metadata": {
        "execution": {
          "iopub.execute_input": "2022-03-11T05:51:17.572639Z",
          "iopub.status.busy": "2022-03-11T05:51:17.571945Z",
          "iopub.status.idle": "2022-03-11T05:51:17.581624Z",
          "shell.execute_reply": "2022-03-11T05:51:17.581174Z",
          "shell.execute_reply.started": "2022-03-11T04:06:58.846857Z"
        },
        "papermill": {
          "duration": 0.112011,
          "end_time": "2022-03-11T05:51:17.581745",
          "exception": false,
          "start_time": "2022-03-11T05:51:17.469734",
          "status": "completed"
        },
        "tags": [],
        "id": "1d14a649"
      },
      "outputs": [],
      "source": [
        "# Data augmentation  \n",
        "\n",
        "data_augmentation = tf.keras.Sequential([\n",
        "    layers.experimental.preprocessing.RandomFlip(mode = \"horizontal_and_vertical\"),\n",
        "    layers.experimental.preprocessing.RandomRotation(factor = 0.2)\n",
        "])"
      ]
    },
    {
      "cell_type": "markdown",
      "id": "667402a8",
      "metadata": {
        "papermill": {
          "duration": 0.100882,
          "end_time": "2022-03-11T05:51:17.782319",
          "exception": false,
          "start_time": "2022-03-11T05:51:17.681437",
          "status": "completed"
        },
        "tags": [],
        "id": "667402a8"
      },
      "source": [
        "# Model Building"
      ]
    },
    {
      "cell_type": "code",
      "execution_count": null,
      "id": "364a319e",
      "metadata": {
        "execution": {
          "iopub.execute_input": "2022-03-11T05:51:18.000930Z",
          "iopub.status.busy": "2022-03-11T05:51:18.000014Z",
          "iopub.status.idle": "2022-03-11T05:51:18.465224Z",
          "shell.execute_reply": "2022-03-11T05:51:18.464751Z",
          "shell.execute_reply.started": "2022-03-11T04:39:57.155969Z"
        },
        "papermill": {
          "duration": 0.585383,
          "end_time": "2022-03-11T05:51:18.465368",
          "exception": false,
          "start_time": "2022-03-11T05:51:17.879985",
          "status": "completed"
        },
        "tags": [],
        "id": "364a319e"
      },
      "outputs": [],
      "source": [
        "\n",
        "input_shape = (Batch_Size, Image_Size, Image_Size, Channels)\n",
        "model = models.Sequential([\n",
        "    resize_and_rescale,\n",
        "    data_augmentation,\n",
        "    layers.Conv2D(filters = 32, kernel_size = (3,3), activation = 'relu', input_shape = input_shape),\n",
        "    layers.MaxPool2D((2,2)),\n",
        "    layers.Conv2D(64, (3,3), activation = 'relu'),\n",
        "    layers.MaxPool2D((2,2)),\n",
        "    layers.Conv2D(64, (3,3), activation = 'relu'),\n",
        "    layers.MaxPool2D((2,2)),\n",
        "    layers.Conv2D(64, (3,3), activation = 'relu'),\n",
        "    layers.MaxPool2D((2,2)),\n",
        "    layers.Conv2D(64, (3,3), activation = 'relu'),\n",
        "    layers.MaxPool2D((2,2)),\n",
        "    layers.Conv2D(64, (3,3), activation = 'relu'),\n",
        "    layers.MaxPool2D((2,2)),\n",
        "    layers.Flatten(),\n",
        "    layers.Dense(64, activation = 'relu'),\n",
        "    layers.Dense(64, activation = 'relu'),\n",
        "    layers.Dense(64, activation = 'relu'),\n",
        "    layers.Dense(3, activation = 'softmax'),\n",
        "\n",
        "])\n",
        "\n",
        "\n",
        "model.build(input_shape = input_shape)"
      ]
    },
    {
      "cell_type": "code",
      "execution_count": null,
      "id": "e8349017",
      "metadata": {
        "execution": {
          "iopub.execute_input": "2022-03-11T05:51:18.665754Z",
          "iopub.status.busy": "2022-03-11T05:51:18.664468Z",
          "iopub.status.idle": "2022-03-11T05:51:18.675872Z",
          "shell.execute_reply": "2022-03-11T05:51:18.675347Z",
          "shell.execute_reply.started": "2022-03-11T04:40:54.166913Z"
        },
        "papermill": {
          "duration": 0.113647,
          "end_time": "2022-03-11T05:51:18.675997",
          "exception": false,
          "start_time": "2022-03-11T05:51:18.562350",
          "status": "completed"
        },
        "tags": [],
        "id": "e8349017"
      },
      "outputs": [],
      "source": [
        "model.summary()"
      ]
    },
    {
      "cell_type": "code",
      "execution_count": null,
      "id": "1cb64c9b",
      "metadata": {
        "execution": {
          "iopub.execute_input": "2022-03-11T05:51:18.879769Z",
          "iopub.status.busy": "2022-03-11T05:51:18.878981Z",
          "iopub.status.idle": "2022-03-11T05:51:18.889518Z",
          "shell.execute_reply": "2022-03-11T05:51:18.889065Z",
          "shell.execute_reply.started": "2022-03-11T04:47:05.715351Z"
        },
        "papermill": {
          "duration": 0.115613,
          "end_time": "2022-03-11T05:51:18.889647",
          "exception": false,
          "start_time": "2022-03-11T05:51:18.774034",
          "status": "completed"
        },
        "tags": [],
        "id": "1cb64c9b"
      },
      "outputs": [],
      "source": [
        "# Optimizing the model 'SparseCategoricalCrossentropy'=>as there are many categorical classes of data\n",
        "model.compile(\n",
        "    optimizer = 'adam', \n",
        "    loss = tf.keras.losses.SparseCategoricalCrossentropy(from_logits = False), \n",
        "    metrics = ['accuracy'])"
      ]
    },
    {
      "cell_type": "code",
      "execution_count": null,
      "id": "b96bd0b2",
      "metadata": {
        "execution": {
          "iopub.execute_input": "2022-03-11T05:51:19.092427Z",
          "iopub.status.busy": "2022-03-11T05:51:19.091671Z",
          "iopub.status.idle": "2022-03-11T06:05:05.417792Z",
          "shell.execute_reply": "2022-03-11T06:05:05.417236Z",
          "shell.execute_reply.started": "2022-03-11T04:47:10.536739Z"
        },
        "papermill": {
          "duration": 826.429742,
          "end_time": "2022-03-11T06:05:05.417935",
          "exception": false,
          "start_time": "2022-03-11T05:51:18.988193",
          "status": "completed"
        },
        "tags": [],
        "id": "b96bd0b2"
      },
      "outputs": [],
      "source": [
        "#Fit the model with training data and also pass validation data\n",
        "history = model.fit(\n",
        "train_data, epochs = 100, batch_size = Batch_Size, verbose = 1, validation_data = val_data)"
      ]
    },
    {
      "cell_type": "code",
      "source": [
        "# SAVE THE MODEL !!!!!!!!!!!!!!!"
      ],
      "metadata": {
        "id": "kz0lZ5Jmtis1"
      },
      "id": "kz0lZ5Jmtis1",
      "execution_count": null,
      "outputs": []
    },
    {
      "cell_type": "code",
      "source": [
        "new_model = tf.keras.models.load_model('/content/drive/MyDrive/models11/potato_model')\n"
      ],
      "metadata": {
        "id": "_lYKSbucnBqE"
      },
      "id": "_lYKSbucnBqE",
      "execution_count": null,
      "outputs": []
    },
    {
      "cell_type": "code",
      "execution_count": null,
      "id": "38f4f3e7",
      "metadata": {
        "execution": {
          "iopub.execute_input": "2022-03-11T06:05:14.549273Z",
          "iopub.status.busy": "2022-03-11T06:05:14.548431Z",
          "iopub.status.idle": "2022-03-11T06:05:14.551196Z",
          "shell.execute_reply": "2022-03-11T06:05:14.551617Z",
          "shell.execute_reply.started": "2022-03-11T04:58:15.569234Z"
        },
        "papermill": {
          "duration": 0.99425,
          "end_time": "2022-03-11T06:05:14.551761",
          "exception": false,
          "start_time": "2022-03-11T06:05:13.557511",
          "status": "completed"
        },
        "tags": [],
        "id": "38f4f3e7"
      },
      "outputs": [],
      "source": [
        "predictions[0]"
      ]
    },
    {
      "cell_type": "code",
      "execution_count": null,
      "id": "7dfc3871",
      "metadata": {
        "execution": {
          "iopub.execute_input": "2022-03-11T06:05:16.587554Z",
          "iopub.status.busy": "2022-03-11T06:05:16.586771Z",
          "iopub.status.idle": "2022-03-11T06:05:16.589568Z",
          "shell.execute_reply": "2022-03-11T06:05:16.590128Z",
          "shell.execute_reply.started": "2022-03-11T04:58:26.108142Z"
        },
        "papermill": {
          "duration": 0.996565,
          "end_time": "2022-03-11T06:05:16.590296",
          "exception": false,
          "start_time": "2022-03-11T06:05:15.593731",
          "status": "completed"
        },
        "tags": [],
        "id": "7dfc3871"
      },
      "outputs": [],
      "source": [
        "history.history.keys()"
      ]
    },
    {
      "cell_type": "code",
      "execution_count": null,
      "id": "2cb2ef86",
      "metadata": {
        "execution": {
          "iopub.execute_input": "2022-03-11T06:05:20.816544Z",
          "iopub.status.busy": "2022-03-11T06:05:20.815474Z",
          "iopub.status.idle": "2022-03-11T06:05:20.817345Z",
          "shell.execute_reply": "2022-03-11T06:05:20.817921Z",
          "shell.execute_reply.started": "2022-03-11T05:02:08.567575Z"
        },
        "papermill": {
          "duration": 1.002794,
          "end_time": "2022-03-11T06:05:20.818082",
          "exception": false,
          "start_time": "2022-03-11T06:05:19.815288",
          "status": "completed"
        },
        "tags": [],
        "id": "2cb2ef86"
      },
      "outputs": [],
      "source": [
        "# Getting the model history to analyse\n",
        "\n",
        "train_loss = history.history['loss']\n",
        "train_acc = history.history['accuracy']\n",
        "\n",
        "val_loss = history.history['val_loss']\n",
        "val_acc = history.history['val_accuracy']"
      ]
    },
    {
      "cell_type": "code",
      "execution_count": null,
      "id": "5b55fc82",
      "metadata": {
        "execution": {
          "iopub.execute_input": "2022-03-11T06:05:22.825254Z",
          "iopub.status.busy": "2022-03-11T06:05:22.819159Z",
          "iopub.status.idle": "2022-03-11T06:05:23.182977Z",
          "shell.execute_reply": "2022-03-11T06:05:23.183410Z",
          "shell.execute_reply.started": "2022-03-11T05:14:28.667641Z"
        },
        "papermill": {
          "duration": 1.370187,
          "end_time": "2022-03-11T06:05:23.183570",
          "exception": false,
          "start_time": "2022-03-11T06:05:21.813383",
          "status": "completed"
        },
        "tags": [],
        "id": "5b55fc82"
      },
      "outputs": [],
      "source": [
        "#graphs for accuracy and loss of training and validation data\n",
        "\n",
        "plt.figure(figsize = (20,20))\n",
        "plt.subplot(2,3,1)\n",
        "plt.plot(range(Epochs), train_acc, label = 'Training Accuracy')\n",
        "plt.plot(range(Epochs), val_acc, label = 'Validation Accuracy')\n",
        "plt.legend(loc = 'lower right')\n",
        "plt.title('Training and Validation Accuracy')\n",
        "\n",
        "plt.subplot(2,3,2)\n",
        "plt.plot(range(Epochs), train_loss, label = 'Training_Loss')\n",
        "plt.plot(range(Epochs), val_loss, label = 'Validation_Loss')\n",
        "plt.legend(loc = 'upper right')\n",
        "plt.title('Training and Validation Loss')"
      ]
    },
    {
      "cell_type": "code",
      "source": [
        "yyy = tf.keras.preprocessing.image_dataset_from_directory(\n",
        "    '/content/drive/MyDrive/DATA  !/test/', batch_size = Batch_Size, image_size = (Image_Size, Image_Size), shuffle = False) "
      ],
      "metadata": {
        "colab": {
          "base_uri": "https://localhost:8080/"
        },
        "id": "IscnURPWno6E",
        "outputId": "a21d3d80-0282-49f9-c49f-136e1d67307c"
      },
      "id": "IscnURPWno6E",
      "execution_count": null,
      "outputs": [
        {
          "output_type": "stream",
          "name": "stdout",
          "text": [
            "Found 224 files belonging to 1 classes.\n"
          ]
        }
      ]
    },
    {
      "cell_type": "code",
      "source": [
        "len(batch_list), len(yyy.file_paths)\n"
      ],
      "metadata": {
        "colab": {
          "base_uri": "https://localhost:8080/"
        },
        "id": "G3GEonVdVzgL",
        "outputId": "396c6e75-83dc-45f3-d528-9588fc7fb502"
      },
      "id": "G3GEonVdVzgL",
      "execution_count": null,
      "outputs": [
        {
          "output_type": "execute_result",
          "data": {
            "text/plain": [
              "(224, 224)"
            ]
          },
          "metadata": {},
          "execution_count": 119
        }
      ]
    },
    {
      "cell_type": "code",
      "source": [
        "import pandas as pd"
      ],
      "metadata": {
        "id": "yTxdMVJ2ZZ35"
      },
      "id": "yTxdMVJ2ZZ35",
      "execution_count": null,
      "outputs": []
    },
    {
      "cell_type": "code",
      "source": [
        "result  = pd.DataFrame(columns=['image','Classification target'])\n",
        "result"
      ],
      "metadata": {
        "colab": {
          "base_uri": "https://localhost:8080/",
          "height": 50
        },
        "id": "DpZfqZH1ZY2C",
        "outputId": "4336ae6a-febf-4eac-becd-c786cac4572a"
      },
      "id": "DpZfqZH1ZY2C",
      "execution_count": null,
      "outputs": [
        {
          "output_type": "execute_result",
          "data": {
            "text/plain": [
              "Empty DataFrame\n",
              "Columns: [image, Classification target]\n",
              "Index: []"
            ],
            "text/html": [
              "\n",
              "  <div id=\"df-011b94a4-1761-44b8-aa45-181e17ed5af6\">\n",
              "    <div class=\"colab-df-container\">\n",
              "      <div>\n",
              "<style scoped>\n",
              "    .dataframe tbody tr th:only-of-type {\n",
              "        vertical-align: middle;\n",
              "    }\n",
              "\n",
              "    .dataframe tbody tr th {\n",
              "        vertical-align: top;\n",
              "    }\n",
              "\n",
              "    .dataframe thead th {\n",
              "        text-align: right;\n",
              "    }\n",
              "</style>\n",
              "<table border=\"1\" class=\"dataframe\">\n",
              "  <thead>\n",
              "    <tr style=\"text-align: right;\">\n",
              "      <th></th>\n",
              "      <th>image</th>\n",
              "      <th>Classification target</th>\n",
              "    </tr>\n",
              "  </thead>\n",
              "  <tbody>\n",
              "  </tbody>\n",
              "</table>\n",
              "</div>\n",
              "      <button class=\"colab-df-convert\" onclick=\"convertToInteractive('df-011b94a4-1761-44b8-aa45-181e17ed5af6')\"\n",
              "              title=\"Convert this dataframe to an interactive table.\"\n",
              "              style=\"display:none;\">\n",
              "        \n",
              "  <svg xmlns=\"http://www.w3.org/2000/svg\" height=\"24px\"viewBox=\"0 0 24 24\"\n",
              "       width=\"24px\">\n",
              "    <path d=\"M0 0h24v24H0V0z\" fill=\"none\"/>\n",
              "    <path d=\"M18.56 5.44l.94 2.06.94-2.06 2.06-.94-2.06-.94-.94-2.06-.94 2.06-2.06.94zm-11 1L8.5 8.5l.94-2.06 2.06-.94-2.06-.94L8.5 2.5l-.94 2.06-2.06.94zm10 10l.94 2.06.94-2.06 2.06-.94-2.06-.94-.94-2.06-.94 2.06-2.06.94z\"/><path d=\"M17.41 7.96l-1.37-1.37c-.4-.4-.92-.59-1.43-.59-.52 0-1.04.2-1.43.59L10.3 9.45l-7.72 7.72c-.78.78-.78 2.05 0 2.83L4 21.41c.39.39.9.59 1.41.59.51 0 1.02-.2 1.41-.59l7.78-7.78 2.81-2.81c.8-.78.8-2.07 0-2.86zM5.41 20L4 18.59l7.72-7.72 1.47 1.35L5.41 20z\"/>\n",
              "  </svg>\n",
              "      </button>\n",
              "      \n",
              "  <style>\n",
              "    .colab-df-container {\n",
              "      display:flex;\n",
              "      flex-wrap:wrap;\n",
              "      gap: 12px;\n",
              "    }\n",
              "\n",
              "    .colab-df-convert {\n",
              "      background-color: #E8F0FE;\n",
              "      border: none;\n",
              "      border-radius: 50%;\n",
              "      cursor: pointer;\n",
              "      display: none;\n",
              "      fill: #1967D2;\n",
              "      height: 32px;\n",
              "      padding: 0 0 0 0;\n",
              "      width: 32px;\n",
              "    }\n",
              "\n",
              "    .colab-df-convert:hover {\n",
              "      background-color: #E2EBFA;\n",
              "      box-shadow: 0px 1px 2px rgba(60, 64, 67, 0.3), 0px 1px 3px 1px rgba(60, 64, 67, 0.15);\n",
              "      fill: #174EA6;\n",
              "    }\n",
              "\n",
              "    [theme=dark] .colab-df-convert {\n",
              "      background-color: #3B4455;\n",
              "      fill: #D2E3FC;\n",
              "    }\n",
              "\n",
              "    [theme=dark] .colab-df-convert:hover {\n",
              "      background-color: #434B5C;\n",
              "      box-shadow: 0px 1px 3px 1px rgba(0, 0, 0, 0.15);\n",
              "      filter: drop-shadow(0px 1px 2px rgba(0, 0, 0, 0.3));\n",
              "      fill: #FFFFFF;\n",
              "    }\n",
              "  </style>\n",
              "\n",
              "      <script>\n",
              "        const buttonEl =\n",
              "          document.querySelector('#df-011b94a4-1761-44b8-aa45-181e17ed5af6 button.colab-df-convert');\n",
              "        buttonEl.style.display =\n",
              "          google.colab.kernel.accessAllowed ? 'block' : 'none';\n",
              "\n",
              "        async function convertToInteractive(key) {\n",
              "          const element = document.querySelector('#df-011b94a4-1761-44b8-aa45-181e17ed5af6');\n",
              "          const dataTable =\n",
              "            await google.colab.kernel.invokeFunction('convertToInteractive',\n",
              "                                                     [key], {});\n",
              "          if (!dataTable) return;\n",
              "\n",
              "          const docLinkHtml = 'Like what you see? Visit the ' +\n",
              "            '<a target=\"_blank\" href=https://colab.research.google.com/notebooks/data_table.ipynb>data table notebook</a>'\n",
              "            + ' to learn more about interactive tables.';\n",
              "          element.innerHTML = '';\n",
              "          dataTable['output_type'] = 'display_data';\n",
              "          await google.colab.output.renderOutput(dataTable, element);\n",
              "          const docLink = document.createElement('div');\n",
              "          docLink.innerHTML = docLinkHtml;\n",
              "          element.appendChild(docLink);\n",
              "        }\n",
              "      </script>\n",
              "    </div>\n",
              "  </div>\n",
              "  "
            ]
          },
          "metadata": {},
          "execution_count": 127
        }
      ]
    },
    {
      "cell_type": "code",
      "execution_count": null,
      "id": "382e1e4c",
      "metadata": {
        "execution": {
          "iopub.execute_input": "2022-03-11T06:05:33.850288Z",
          "iopub.status.busy": "2022-03-11T06:05:33.849350Z",
          "iopub.status.idle": "2022-03-11T06:05:37.038164Z",
          "shell.execute_reply": "2022-03-11T06:05:37.038610Z",
          "shell.execute_reply.started": "2022-03-11T05:28:09.155209Z"
        },
        "papermill": {
          "duration": 4.233759,
          "end_time": "2022-03-11T06:05:37.038760",
          "exception": false,
          "start_time": "2022-03-11T06:05:32.805001",
          "status": "completed"
        },
        "tags": [],
        "id": "382e1e4c",
        "colab": {
          "base_uri": "https://localhost:8080/"
        },
        "outputId": "be3fa622-c35c-4eea-8aed-91f3cb9ca915"
      },
      "outputs": [
        {
          "output_type": "stream",
          "name": "stdout",
          "text": [
            "01126e2630b15e7e3a0a26869d47ed477e0b7f6c.jpeg\n",
            "01a83bd0e39561fc090a2dd8f090e15866ddff7d.jpeg\n",
            "024f92e0e4991f95835d994e7cdc68545fa643c5.jpeg\n",
            "0571a2fd5825c2b5da83b96bec5da285cbab79b8.jpeg\n",
            "06b15764355d627b366c4ff5dae2ecd89a9d79fc.jpeg\n",
            "093286dabe304e991721c02460189fa24c7ac082.jpeg\n",
            "096345f3166ab13786e5b17bd2480281ef2cf445.jpeg\n",
            "09eba1cc5442995bd7e6cd16737ca69978348ea9.jpeg\n",
            "0a10fb71309ca35c7267e958e843d4a0ea3af9ef.jpeg\n",
            "0b2b8bab509a1fd2d4b4f2b04814ba3811c42fd4.jpeg\n",
            "0ba04a2d600d193eccab4859524aa91cef705480.jpeg\n",
            "0c7a3e0a076fbb7b3d6df08d9c3b2bc7ca3f4d02.jpeg\n",
            "0cff951eef5f8eca43af4fbc3626aa5a760cc90d.jpeg\n",
            "0e44c9126fe3aa3be505bf18e8822139167990b9.jpeg\n",
            "0fb9564fd87ee121a6a4a3febf12abce826ed919.jpeg\n",
            "10e864823a8a984306f178a2b55938354e31cb63.jpeg\n",
            "118790f58e75aeccebca4e09c2f44b37bb0f6003.jpeg\n",
            "1384c53475966a0ea72c433fa54c0b2de113a28c.jpeg\n",
            "17bb9fe264547be2629638ef40b3139132e3a21a.jpeg\n",
            "1bd4a2b8f6193416bda4a4ffd495afa092cad8e6.jpeg\n",
            "1e91ea4eb53765d65b88122c11cb3de610313182.jpeg\n",
            "1edc07ace88530030356313b89e990840dd0a007.jpeg\n",
            "1f20bc35247b3e98bfe2529522567cd4edacd8ce.jpeg\n",
            "207de2c3a0667f0e8a2d8a32d92a951dbbcb48d1.jpeg\n",
            "230c829d6f01cd276a65fcacffef1e4968b038fc.jpeg\n",
            "2384aaf4a0df3a454960d20ca4f2d01c1063ac47.jpeg\n",
            "2492c714196955d38b75f5b1c1d7edbabb240643.jpeg\n",
            "24b7419ef6d5c577e155795c4f1e0ddd8487305b.jpeg\n",
            "26652924e222f9f9b43a228ae0bf3a40f3a0f841.jpeg\n",
            "27b7ef81b7ab6c3afba713aa905ddf1b14c17df4.jpeg\n",
            "27d50986587f480034be527b667239d8a47c80dd.jpeg\n",
            "2a7b8786307207eec83f4db9138ea60e1bcb3da6.jpeg\n",
            "2a8cdbb98859854274ec84d59aa8f1496465d4a3.jpeg\n",
            "2c1fb46f4bee045868dc0246964333b777a6ec84.jpeg\n",
            "2e378ddb9f13cf62e88e4db6aac70bde9cc8f704.jpeg\n",
            "2e6951d08790ed8d2ccad3570be5c4d881b4d5f3.jpeg\n",
            "327ed7db8efc5a7f2420c025408aa81d67db1967.jpeg\n",
            "344b7549d581b2e059143563d6556e03119f61f9.jpeg\n",
            "34bd797f0c1b297abc7ab31c50b069d1b89852c5.jpeg\n",
            "35cd49ff3572991a508f13390aab28d460545776.jpeg\n",
            "36c73fbd9fda29662098c1982f0afcf1a15a27bd.jpeg\n",
            "376a5d3d6411d8d334ae15885696f10294fa4c35.jpeg\n",
            "386d5cbec525b7394376994a3fa001a7d61827c0.jpeg\n",
            "39a3e50c6a98beee6162b234cfc3e88c5b2ab287.jpeg\n",
            "3b7d5beb4c43979fda488264cc7104f325617258.jpeg\n",
            "3becba243b24a9e4da7e6c2197aa058c99d5e2c1.jpeg\n",
            "3d75edbcc212e12e02bc4c717ed0c2e749872b57.jpeg\n",
            "3d8708fb7c1074673d70e99bac57a1bac2f0415e.jpeg\n",
            "3d9af33efc1674a8ae6a79964912f8a3e48095ac.jpeg\n",
            "3ee9f8f7a69488fe0cca5fb01777da51948023cf.jpeg\n",
            "3f38227bc8a32ff8839a6c585afbb10646eacf64.jpeg\n",
            "4165471df40f9ab71b0e55dd522285cb47844a94.jpeg\n",
            "441435f56a2d6b1099469a60e4ff027c9bbaf7d4.jpeg\n",
            "44a770f9420d484b17a89621b132c3e1e22762ab.jpeg\n",
            "4a14254e17c88cebf7f403406058ea7b44422811.jpeg\n",
            "4b963f79d574e0caf40d16593d46d87cc2dc5fec.jpeg\n",
            "4ba59827ddf1181794374d855cdaf24e39eecc84.jpeg\n",
            "4dcd979e96a3351e81b74e1e04da9d73b06769fc.jpeg\n",
            "4eec0c994e46d2d17df4daa1739391bb5dbcf5ec.jpeg\n",
            "516d16da66bbfb1879faad9e9918ca9d050d5bc4.jpeg\n",
            "535bf78ff025ee228458264f1c0370b0039ad673.jpeg\n",
            "5395ae846b190db8753f0b4d02c3f4fdf6fe45dd.jpeg\n",
            "53ac57899a0da94e5a58401c29782fad8a1329e8.jpeg\n",
            "543ff1ed3e5ceba64ea4d25870293b1f7424d5aa.jpeg\n",
            "544c7bbefb90d33bef2ab99f8ae97c94d0e13df4.jpeg\n",
            "545928cc55210a0fa45d278464dddd09811e7d97.jpeg\n",
            "548ecf6b07dca52f25827be10e58a76e57acf97d.jpeg\n",
            "57c3d5595021d14e29269b7873a4a52ef8c09229.jpeg\n",
            "57da9d37e39f38d87d2b1ee9ca321f815bc7be6b.jpeg\n",
            "58462e2964b007b5588da2a71e3a3da88e961f6b.jpeg\n",
            "58761574e78922b9e6fa1b98bca0d2932dbb89d4.jpeg\n",
            "59dd460d904f16161e01a9afb2e3ab6c987d9305.jpeg\n",
            "5b5129da2ce32991a12375f7e61002cff78d5c93.jpeg\n",
            "5bcdd1edf3978db2a2603cbf6a945bb7b1b2180f.jpeg\n",
            "5cec4be6a9f7e1b8cd520c99ba4d17e75284eb78.jpeg\n",
            "5d6ffecda116f04c7595b695c02ec5a8733bf9ee.jpeg\n",
            "5f186258669e7e4e27bef9085886062d978e851a.jpeg\n",
            "5fb3a4b75e03813d1821d3628e1881b3f1fc71b8.jpeg\n",
            "5fb9673624db382bebd3955b884fcbaca118701a.jpeg\n",
            "5fd7f2bd962c7470aea0700e443d56dcf5a04786.jpeg\n",
            "62193b86948fb96bf7aca4819e6bfe31507b3f9a.jpeg\n",
            "6254c32e38300b8d9d3bff0e82a47a05063ee20b.jpeg\n",
            "626b98739d14086f8bee64959fa959c009a39d25.jpeg\n",
            "62edb250a9e475f4c7e817579ec834f58f5c27cc.jpeg\n",
            "6398d34176f4008c4d469e8aec64ae4704a9dcc6.jpeg\n",
            "6599205cc7055e36f4f2bd20137a655c988a26d2.jpeg\n",
            "663230c0447ae4f7106bdaba5134d24029cd50c2.jpeg\n",
            "66cfac794664253107b3a6d3016467585f3abb41.jpeg\n",
            "6768cea0e1f464bc78d6f00b1147869aafcfed16.jpeg\n",
            "679b286ac720e5664fa0968ad196fd79dab89378.jpeg\n",
            "69a084017c7dbba6b2b9d8f8bb5b12bc851a1b6c.jpeg\n",
            "6a2ac6f915d65791347e834c670fb90bcf8f08c4.jpeg\n",
            "6c015d305e427190156e2648dbd2d174d0609eae.jpeg\n",
            "6d1b4811eef2ead01aa5a5a93387f800ca1963e4.jpeg\n",
            "6dbbc74318ae32d1ef64c261c4027e9742d0b3e4.jpeg\n",
            "6dc61ee9334829b0fda0734c56d838f5c045c6ad.jpeg\n",
            "6ee85d02f2fab8cd64760b8eadd5fd38e6fd31c8.jpeg\n",
            "720e07ddf2d42b86df7d4b34a31833eba184bc5f.jpeg\n",
            "7274aa826bec3deb8f5aa290d5d09f6fca268aeb.jpeg\n",
            "732cd09bdf47e5090970611f547f923e627c02f0.jpeg\n",
            "73411d52726f687d6bae3b9f5d7f08218d100498.jpeg\n",
            "735b64603761c4837be70a22a6aa3e3e94bed328.jpeg\n",
            "74aaf924a6c4efd754afa6252e370d0b03b53bd4.jpeg\n",
            "76cfe00005e722a03763eed2491760940047e2c3.jpeg\n",
            "7797818f2812f0ea3a333c74ff0844ba6941bddd.jpeg\n",
            "7869bb370b28f83ee48ff3849a6384f9c2277b99.jpeg\n",
            "7b8258c4c1ffe38dbec5e30700e1f2ef27b26b2c.jpeg\n",
            "7d32a6ad6a2c2fb4c7a834275a8bc2ac4a1ccc95.jpeg\n",
            "7efac30469ea586402511ba17bae801c3715c6bc.jpeg\n",
            "7f70fff6ee6657b848751ab78a6d1d0fea84ef20.jpeg\n",
            "7f8481c40f1660d12a6ee9b42629564b4e1ffd14.jpeg\n",
            "7fa8e22847ff9e2986a16bddb349886a19c3515d.jpeg\n",
            "8195935a5ecc83df8fa1b83bd1f7dcaf8e3bda70.jpeg\n",
            "81cd018cccfba16caa2741d733a76a7418d13fa9.jpeg\n",
            "82992da950b472ce72f54558bbd5552926f34b31.jpeg\n",
            "853197c0fa1fd681727b8ab76a815eef8bb8e8f6.jpeg\n",
            "85bd6793f29f4e9f6523d62aee27214482193951.jpeg\n",
            "87216709fe94eecbf45ba72e837242eead309cd6.jpeg\n",
            "87e36879cfc564767f32aac07b16662524097650.jpeg\n",
            "88b81de294481ed1c58de1ac6e43f683f2249e06.jpeg\n",
            "8a7480706bfd734c9888648edd7a3ffef8fb0826.jpeg\n",
            "8a80d81dacd35364b31ac8fffda5d56299f74881.jpeg\n",
            "8b6d017f5917a292a9750d96a245832607775693.jpeg\n",
            "8c2f4102c0c3de9b1bb0367737bf53f1637922a7.jpeg\n",
            "8c371dbc8e65c6175d63a07b176422be6a35159c.jpeg\n",
            "8daf245ac62a2f5f596c6cfa3843733d07b3bdbb.jpeg\n",
            "8e81d778ccc22f051d0bab6133c588815e76f830.jpeg\n",
            "8f15f33202641ee9bc04e8f57113c86d433b0037.jpeg\n",
            "93878cddb4d1f684f3d2bc8af946e093ec9538f7.jpeg\n",
            "94d96a429b99d81a2fd916af258b41814e1172ca.jpeg\n",
            "95f6f30ebd8a5625a3974acac9774eef6d2fe895.jpeg\n",
            "96e30fffca2fd598fb85ecdabe4a07637cb0c0c1.jpeg\n",
            "99307ca9ac548edd81fd75aa592fe05faa3baf10.jpeg\n",
            "9c6c393442179a445dd657e9263ed7507ef12755.jpeg\n",
            "9c6fc4394d2c23725d518d7d6f7ac7c4b5d6cc99.jpeg\n",
            "9d0ef6d9667590cc68361b3e12b5c54959f65593.jpeg\n",
            "9d75a4d28af16e25a52247f49dfc5a6b297ad756.jpeg\n",
            "9d9042d3876567e2c0b341f36432645f66d83b51.jpeg\n",
            "9f39a56cc0ba317d6e8f25e591fcefb6138f5a24.jpeg\n",
            "9fb096139095021fbe04854f6c61f3644cbffb35.jpeg\n",
            "a11cbc793b08be63a8bc77fdd4c047a567ad8916.jpeg\n",
            "a261b7b6e8be0ae803e08ad65029e2bac061c9cd.jpeg\n",
            "a4faf5652d4d55ac51f9a384763de7e3048773bf.jpeg\n",
            "a6788b471d2149c50a9af8b7618a3893146c040d.jpeg\n",
            "a6ecb8f0a8631fc69bea328dcc7726e65587078f.jpeg\n",
            "adbdbdc1bc97e38bcc398f8c95db541ad1d8eb43.jpeg\n",
            "adcc5dbda00794d06136b6cb3f9e656e3f5539ce.jpeg\n",
            "ae46f2cf004356266241abd7c70445b3e0382b5c.jpeg\n",
            "aec563d76a414ca5dbf2f82b1a916c536757df4a.jpeg\n",
            "af034c9f964b688e14aeb0899135fb2f889a88b5.jpeg\n",
            "af08edd8cf3d87121acc285c6460315c89b6a148.jpeg\n",
            "b09504346a63067d64fba1aa499d1ebf27f03f98.jpeg\n",
            "b12e0eb763310711fbaa81198676879648b428da.jpeg\n",
            "b222c9f181f4209fced7ba56a319e6477d511d8a.jpeg\n",
            "b30851657924a5ff136e838a2b2bfffdd2acb2d9.jpeg\n",
            "b371c2593744479df1e50aa9a6309dfff63348c4.jpeg\n",
            "b42edf8d2f736768b0ad054f0c331ce350385538.jpeg\n",
            "b43bf85a6e9a6f5af45f57efba17c2ef31788a4c.jpeg\n",
            "b7401cf8dd036122825ec685a7b9cc91254887bb.jpeg\n",
            "b94ac9a034551ad46ca1dc4588b8db08d15af675.jpeg\n",
            "ba4beb0fd9fab5b0fbbcfd8ea7321b4964a0b6c2.jpeg\n",
            "be7547ee5df11e748659d6a458c8b28a55993351.jpeg\n",
            "bfb30305d8e0b07789a9649f93ade8e852f64eef.jpeg\n",
            "c26f8d88834d5a6aa345588f6297ec9881e167ba.jpeg\n",
            "c416168608f03c62b5f56305eec3d8bbc94548df.jpeg\n",
            "c5495d691f3bf557699e10f042a8d1cc20634c09.jpeg\n",
            "c647905f95b32e368fe7ad427c1a08717d154758.jpeg\n",
            "ca41f82154bb7a51735084850c420fea702260cc.jpeg\n",
            "cafdd2512664bf5f9fb2a427ba30baeac9d7a837.jpeg\n",
            "cbc0a568dbbe244bc89e300358c7c3ac351a7bdd.jpeg\n",
            "cc320ec536cb76b1ab2258a06787a408a20759fc.jpeg\n",
            "cce50ff2c2aee09c5577fc06bc894e8b317671d8.jpeg\n",
            "ce4237353af979c8423d7b8a5715f9ca321bb28f.jpeg\n",
            "ce5bf57205928590ef9e7cf64f24de6e7f01e881.jpeg\n",
            "cf12b91989064286e64b22147e14778f314eaef1.jpeg\n",
            "cfe1fd08229b60e83f42d79bf626819edb2c1193.jpeg\n",
            "cfea8f3ca33b65b229490a2d206e0735f30c0254.jpeg\n",
            "d000d1388e14eaae20086eb9ef1f873affacdda7.jpeg\n",
            "d26faae6639a0c73ea7e840e1ecc5af2e56c1711.jpeg\n",
            "d333dde10ddc80d8766e5feb8c9963e68bef1407.jpeg\n",
            "d347d6c2cd098fa372e68fbc31f64c0c9db7e11b.jpeg\n",
            "d391c5bac6949e0e0eb79b78c3336f13b740b6e8.jpeg\n",
            "d3bcc7e7b63abad76244ce5d7177eb35864dadb4.jpeg\n",
            "d4ac0d511c6680a988a10d2cda310e08da6ea9ad.jpeg\n",
            "d4d573591ba620a84ff799f5c30274c34400835c.jpeg\n",
            "d65a47e42010f75fc98d90af9c5f22cfbfce4db4.jpeg\n",
            "d9c34aef888c5007d3ab7d7dc78681bb0909d53e.jpeg\n",
            "dc1c091789193e5e9f5c405f5a56592af7dccc44.jpeg\n",
            "dc21578f564bd2fa5bf7c76f0147061cd09562a4.jpeg\n",
            "dce89b1089b3659d9263849fdd67d04c2c951653.jpeg\n",
            "dda14322c6c7738a327cf78f760497e99aee1bdf.jpeg\n",
            "df7c909ea2a8beb6d8ca4f60a6f4550ef82a8181.jpeg\n",
            "e0406dcc0272db8678a3834a8170fe4fa16153d3.jpeg\n",
            "e06fc454de7b519d498826e006112c369903bacd.jpeg\n",
            "e21e3ea8304804038159caa8beb9b652b3f1c362.jpeg\n",
            "e249a6b2c9896147853149985f7354dbbf8f9ac6.jpeg\n",
            "e450597d0b3562837b9f100b1e3bc6cb51e56a36.jpeg\n",
            "e45e889ea4b3fbbe8de3b6b38019b56023e8665f.jpeg\n",
            "e701f087d83e6c956b53ecc1d3795ab276770517.jpeg\n",
            "e7e79410d776a1c60c8cef405bfa5eba86fee703.jpeg\n",
            "e8185bd250fd23de6d173f61c9d73811812897e5.jpeg\n",
            "e829396cf79e264a2d1bfb77a7ababe30dc2c040.jpeg\n",
            "eb72ad5abdfa4b7ad14c92bcc53367dc6b9bc8ac.jpeg\n",
            "eb8e0b1325175295adee14fc1ec139419c3e1935.jpeg\n",
            "ebf1952adb80256ee90466413eda08ad41dc3d35.jpeg\n",
            "ec3d4552b85d63149859d2f82939b669015add08.jpeg\n",
            "ec4ca2b7c4240342c4e7331b869024215bf95645.jpeg\n",
            "eca0218c5415c2e297aeebc8a4fbb036f5af3c0b.jpeg\n",
            "ed9ee01661128b573e78b1a106dc120f5aaaddad.jpeg\n",
            "ef5ea13f4b75c8ee7d1bf1c84748dba7442ed6e0.jpeg\n",
            "efe373ee7067024e56fb6b8085c488ddaa388a46.jpeg\n",
            "f1fb2d9a42e9355ddf45ecda8a40b1b6ef870325.jpeg\n",
            "f25b13082cd24914529fe53f16bd83c2cff10560.jpeg\n",
            "f2936d16f5cb240383c9341f45da8a76c461da38.jpeg\n",
            "f3e26524212a6f39dddb679103eb501e50350c77.jpeg\n",
            "f409cdfc027a5e4a134fbc18b4a376ec415bec67.jpeg\n",
            "f4ac98d6c4aa1630b2f6548ae4aa8327a5139eff.jpeg\n",
            "f8850556ee3ff5901a8648ffeab00d94e1ebbaa9.jpeg\n",
            "f93230e287a15ea2cddf73ba18d98547af9f402f.jpeg\n",
            "fb981715bba6c68931052a5c576809750786bb52.jpeg\n",
            "fd6faa4f69ad7b5f5db5006863b356d2897ff0e3.jpeg\n",
            "fe5e25797e6fe7f20d2cfdc4873d75ee169c1196.jpeg\n",
            "ff2abe3fe17feb5da8fef7193b999e3078619671.jpeg\n",
            "ffba6e52b61fbd3cb264f856e1d00e6fa8c045f8.jpeg\n"
          ]
        }
      ],
      "source": [
        "'''\n",
        "batch_list = []\n",
        "for batch_image, batch_label in yyy.take(-1):\n",
        "        for image in batch_image:\n",
        "          batch_list.append(image)\n",
        "'''\n",
        "for label ,img in zip (yyy.file_paths , batch_list):\n",
        "        filename = label.split('/')[7]\n",
        "        print(filename)\n",
        "        '''\n",
        "        img = tf.expand_dims(img, 0)\n",
        "\n",
        "\n",
        "    \n",
        "        batch_prediction = new_model.predict(img)\n",
        "        predicted_class = class_name[np.argmax(batch_prediction)]\n",
        "\n",
        "        predicted_class = predicted_class.replace(\"_\", \" \")\n",
        "        if(\"healthy\" in predicted_class ):\n",
        "           predicted_class = predicted_class.replace(\"_\", \" \")\n",
        "           predicted_class = predicted_class.split(' ')[3]\n",
        "        else:  \n",
        "          predicted_class = predicted_class.split(\" \")[3]+ \" \" +predicted_class.split(\" \")[4] \n",
        "          predicted_class = predicted_class.lower()\n",
        "        result = result.append({'image': filename, 'Classification target': predicted_class},ignore_index = True)\n",
        "        print('image = ',filename,' Classification target = ',predicted_class )\n",
        "'''\n",
        "\n"
      ]
    },
    {
      "cell_type": "code",
      "source": [
        "result.to_csv(\"result.csv\",index=False)\n"
      ],
      "metadata": {
        "id": "2yCG3L48K09n"
      },
      "id": "2yCG3L48K09n",
      "execution_count": null,
      "outputs": []
    },
    {
      "cell_type": "code",
      "source": [
        "print(batch_list[0])"
      ],
      "metadata": {
        "colab": {
          "base_uri": "https://localhost:8080/"
        },
        "id": "5qeI86tnHDnh",
        "outputId": "3c512c04-90ce-4ef0-f45a-f7adcf44d3d2"
      },
      "id": "5qeI86tnHDnh",
      "execution_count": null,
      "outputs": [
        {
          "output_type": "stream",
          "name": "stdout",
          "text": [
            "tf.Tensor(\n",
            "[[[203.22363  194.50488  175.22363 ]\n",
            "  [205.66602  189.47607  176.9917  ]\n",
            "  [156.81348  134.87305  125.65723 ]\n",
            "  ...\n",
            "  [ 63.06543  107.06543   55.609375]\n",
            "  [ 87.98193  131.16455   70.38818 ]\n",
            "  [116.03174  155.07422   89.04053 ]]\n",
            "\n",
            " [[126.52002  133.23877   96.75928 ]\n",
            "  [201.38867  197.71582  168.05225 ]\n",
            "  [200.03906  181.38281  159.44531 ]\n",
            "  ...\n",
            "  [ 90.91504  136.96533   76.04346 ]\n",
            "  [116.20654  164.84717  100.74512 ]\n",
            "  [ 81.083984 129.64648   60.802734]]\n",
            "\n",
            " [[200.24756  184.51318  161.51318 ]\n",
            "  [192.96826  174.44043  156.02393 ]\n",
            "  [201.31445  179.29785  164.64209 ]\n",
            "  ...\n",
            "  [ 49.331543  95.862305  22.128418]\n",
            "  [ 45.84961   99.325195  12.875488]\n",
            "  [ 55.20996  110.90381   15.825684]]\n",
            "\n",
            " ...\n",
            "\n",
            " [[196.09033  171.09033  151.09033 ]\n",
            "  [199.28809  174.28809  154.28809 ]\n",
            "  [197.71826  172.71826  152.71826 ]\n",
            "  ...\n",
            "  [212.7627   187.7627   167.7627  ]\n",
            "  [203.51074  178.51074  158.51074 ]\n",
            "  [199.0376   174.0376   154.0376  ]]\n",
            "\n",
            " [[188.27637  164.25342  143.20898 ]\n",
            "  [204.125    179.42822  158.6084  ]\n",
            "  [200.90283  176.47559  155.56592 ]\n",
            "  ...\n",
            "  [195.3628   170.86816  149.98096 ]\n",
            "  [196.48438  172.25928  151.28223 ]\n",
            "  [205.28955  180.39062  159.63818 ]]\n",
            "\n",
            " [[204.45312  186.53125  170.26562 ]\n",
            "  [209.10938  191.1875   174.92188 ]\n",
            "  [199.6377   181.71582  165.4502  ]\n",
            "  ...\n",
            "  [145.51367  127.5918   111.32617 ]\n",
            "  [193.7959   175.87402  159.6084  ]\n",
            "  [197.43262  179.51074  163.24512 ]]], shape=(256, 256, 3), dtype=float32)\n"
          ]
        }
      ]
    },
    {
      "cell_type": "code",
      "source": [
        "result = pd.DataFrame()"
      ],
      "metadata": {
        "id": "xjTx-s1eFiC4"
      },
      "id": "xjTx-s1eFiC4",
      "execution_count": null,
      "outputs": []
    },
    {
      "cell_type": "code",
      "source": [
        "result.to_csv(\"RESULT.csv\",index=False,)\n"
      ],
      "metadata": {
        "id": "UBOGy65AUJcI"
      },
      "id": "UBOGy65AUJcI",
      "execution_count": null,
      "outputs": []
    },
    {
      "cell_type": "code",
      "source": [
        "result"
      ],
      "metadata": {
        "id": "Wglkqsfoqu01",
        "colab": {
          "base_uri": "https://localhost:8080/",
          "height": 50
        },
        "outputId": "c539c887-67f1-4828-aa74-3d9d5373ef7b"
      },
      "id": "Wglkqsfoqu01",
      "execution_count": null,
      "outputs": [
        {
          "output_type": "execute_result",
          "data": {
            "text/plain": [
              "Empty DataFrame\n",
              "Columns: [image, Classification target]\n",
              "Index: []"
            ],
            "text/html": [
              "\n",
              "  <div id=\"df-85553d85-7ee1-4c90-bae9-42df17b71f9e\">\n",
              "    <div class=\"colab-df-container\">\n",
              "      <div>\n",
              "<style scoped>\n",
              "    .dataframe tbody tr th:only-of-type {\n",
              "        vertical-align: middle;\n",
              "    }\n",
              "\n",
              "    .dataframe tbody tr th {\n",
              "        vertical-align: top;\n",
              "    }\n",
              "\n",
              "    .dataframe thead th {\n",
              "        text-align: right;\n",
              "    }\n",
              "</style>\n",
              "<table border=\"1\" class=\"dataframe\">\n",
              "  <thead>\n",
              "    <tr style=\"text-align: right;\">\n",
              "      <th></th>\n",
              "      <th>image</th>\n",
              "      <th>Classification target</th>\n",
              "    </tr>\n",
              "  </thead>\n",
              "  <tbody>\n",
              "  </tbody>\n",
              "</table>\n",
              "</div>\n",
              "      <button class=\"colab-df-convert\" onclick=\"convertToInteractive('df-85553d85-7ee1-4c90-bae9-42df17b71f9e')\"\n",
              "              title=\"Convert this dataframe to an interactive table.\"\n",
              "              style=\"display:none;\">\n",
              "        \n",
              "  <svg xmlns=\"http://www.w3.org/2000/svg\" height=\"24px\"viewBox=\"0 0 24 24\"\n",
              "       width=\"24px\">\n",
              "    <path d=\"M0 0h24v24H0V0z\" fill=\"none\"/>\n",
              "    <path d=\"M18.56 5.44l.94 2.06.94-2.06 2.06-.94-2.06-.94-.94-2.06-.94 2.06-2.06.94zm-11 1L8.5 8.5l.94-2.06 2.06-.94-2.06-.94L8.5 2.5l-.94 2.06-2.06.94zm10 10l.94 2.06.94-2.06 2.06-.94-2.06-.94-.94-2.06-.94 2.06-2.06.94z\"/><path d=\"M17.41 7.96l-1.37-1.37c-.4-.4-.92-.59-1.43-.59-.52 0-1.04.2-1.43.59L10.3 9.45l-7.72 7.72c-.78.78-.78 2.05 0 2.83L4 21.41c.39.39.9.59 1.41.59.51 0 1.02-.2 1.41-.59l7.78-7.78 2.81-2.81c.8-.78.8-2.07 0-2.86zM5.41 20L4 18.59l7.72-7.72 1.47 1.35L5.41 20z\"/>\n",
              "  </svg>\n",
              "      </button>\n",
              "      \n",
              "  <style>\n",
              "    .colab-df-container {\n",
              "      display:flex;\n",
              "      flex-wrap:wrap;\n",
              "      gap: 12px;\n",
              "    }\n",
              "\n",
              "    .colab-df-convert {\n",
              "      background-color: #E8F0FE;\n",
              "      border: none;\n",
              "      border-radius: 50%;\n",
              "      cursor: pointer;\n",
              "      display: none;\n",
              "      fill: #1967D2;\n",
              "      height: 32px;\n",
              "      padding: 0 0 0 0;\n",
              "      width: 32px;\n",
              "    }\n",
              "\n",
              "    .colab-df-convert:hover {\n",
              "      background-color: #E2EBFA;\n",
              "      box-shadow: 0px 1px 2px rgba(60, 64, 67, 0.3), 0px 1px 3px 1px rgba(60, 64, 67, 0.15);\n",
              "      fill: #174EA6;\n",
              "    }\n",
              "\n",
              "    [theme=dark] .colab-df-convert {\n",
              "      background-color: #3B4455;\n",
              "      fill: #D2E3FC;\n",
              "    }\n",
              "\n",
              "    [theme=dark] .colab-df-convert:hover {\n",
              "      background-color: #434B5C;\n",
              "      box-shadow: 0px 1px 3px 1px rgba(0, 0, 0, 0.15);\n",
              "      filter: drop-shadow(0px 1px 2px rgba(0, 0, 0, 0.3));\n",
              "      fill: #FFFFFF;\n",
              "    }\n",
              "  </style>\n",
              "\n",
              "      <script>\n",
              "        const buttonEl =\n",
              "          document.querySelector('#df-85553d85-7ee1-4c90-bae9-42df17b71f9e button.colab-df-convert');\n",
              "        buttonEl.style.display =\n",
              "          google.colab.kernel.accessAllowed ? 'block' : 'none';\n",
              "\n",
              "        async function convertToInteractive(key) {\n",
              "          const element = document.querySelector('#df-85553d85-7ee1-4c90-bae9-42df17b71f9e');\n",
              "          const dataTable =\n",
              "            await google.colab.kernel.invokeFunction('convertToInteractive',\n",
              "                                                     [key], {});\n",
              "          if (!dataTable) return;\n",
              "\n",
              "          const docLinkHtml = 'Like what you see? Visit the ' +\n",
              "            '<a target=\"_blank\" href=https://colab.research.google.com/notebooks/data_table.ipynb>data table notebook</a>'\n",
              "            + ' to learn more about interactive tables.';\n",
              "          element.innerHTML = '';\n",
              "          dataTable['output_type'] = 'display_data';\n",
              "          await google.colab.output.renderOutput(dataTable, element);\n",
              "          const docLink = document.createElement('div');\n",
              "          docLink.innerHTML = docLinkHtml;\n",
              "          element.appendChild(docLink);\n",
              "        }\n",
              "      </script>\n",
              "    </div>\n",
              "  </div>\n",
              "  "
            ]
          },
          "metadata": {},
          "execution_count": 114
        }
      ]
    },
    {
      "cell_type": "code",
      "source": [
        ""
      ],
      "metadata": {
        "id": "zgUtk7qj08MA"
      },
      "id": "zgUtk7qj08MA",
      "execution_count": null,
      "outputs": []
    }
  ],
  "metadata": {
    "kernelspec": {
      "display_name": "Python 3",
      "language": "python",
      "name": "python3"
    },
    "language_info": {
      "codemirror_mode": {
        "name": "ipython",
        "version": 3
      },
      "file_extension": ".py",
      "mimetype": "text/x-python",
      "name": "python",
      "nbconvert_exporter": "python",
      "pygments_lexer": "ipython3",
      "version": "3.7.12"
    },
    "papermill": {
      "default_parameters": {},
      "duration": 908.498862,
      "end_time": "2022-03-11T06:05:48.497911",
      "environment_variables": {},
      "exception": null,
      "input_path": "__notebook__.ipynb",
      "output_path": "__notebook__.ipynb",
      "parameters": {},
      "start_time": "2022-03-11T05:50:39.999049",
      "version": "2.3.3"
    },
    "colab": {
      "name": "potato-leaves-disease.ipynb",
      "provenance": [],
      "collapsed_sections": []
    },
    "accelerator": "GPU"
  },
  "nbformat": 4,
  "nbformat_minor": 5
}